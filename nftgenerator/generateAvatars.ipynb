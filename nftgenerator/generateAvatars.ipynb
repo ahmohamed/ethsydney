{
 "cells": [
  {
   "cell_type": "code",
   "execution_count": 1,
   "metadata": {},
   "outputs": [
    {
     "data": {
      "text/plain": [
       "True"
      ]
     },
     "execution_count": 1,
     "metadata": {},
     "output_type": "execute_result"
    }
   ],
   "source": [
    "from dotenv import load_dotenv\n",
    "load_dotenv()"
   ]
  },
  {
   "cell_type": "code",
   "execution_count": 23,
   "metadata": {},
   "outputs": [],
   "source": [
    "from coolname import generate_slug\n",
    "from openai import OpenAI\n",
    "import base64\n",
    "\n",
    "client = OpenAI()\n",
    "\n",
    "def save_image(slug, imgdata):\n",
    "    imgdata = base64.b64decode(imgdata)\n",
    "    filename = f'images/{slug}.jpg'  # I assume you have a way of picking unique filenames\n",
    "    with open(filename, 'wb') as f:\n",
    "        f.write(imgdata)\n",
    "\n",
    "def gen_image():   \n",
    "    slug = generate_slug()\n",
    "    response = client.images.generate(\n",
    "        model=\"dall-e-3\",\n",
    "        prompt=f\"Generate this Pocket monster NFT in a cartoon style on a black background: {slug}\",\n",
    "        size=\"1024x1024\",\n",
    "        quality=\"standard\",\n",
    "        n=1,\n",
    "        response_format='b64_json'\n",
    "        )\n",
    "    save_image (slug, response.data[0].b64_json)"
   ]
  },
  {
   "cell_type": "code",
   "execution_count": 24,
   "metadata": {},
   "outputs": [
    {
     "name": "stdout",
     "output_type": "stream",
     "text": [
      "generating image 0\n",
      "generating image 1\n",
      "generating image 2\n",
      "generating image 3\n",
      "generating image 4\n",
      "generating image 5\n",
      "generating image 6\n",
      "generating image 7\n",
      "generating image 8\n",
      "generating image 9\n",
      "generating image 10\n",
      "generating image 11\n",
      "generating image 12\n",
      "generating image 13\n",
      "generating image 14\n",
      "generating image 15\n",
      "generating image 16\n",
      "generating image 17\n",
      "generating image 18\n",
      "generating image 19\n",
      "generating image 20\n",
      "generating image 21\n",
      "generating image 22\n",
      "generating image 23\n",
      "generating image 24\n",
      "generating image 25\n",
      "generating image 26\n",
      "generating image 27\n",
      "generating image 28\n",
      "generating image 29\n",
      "generating image 30\n",
      "generating image 31\n",
      "generating image 32\n",
      "generating image 33\n",
      "generating image 34\n",
      "generating image 35\n",
      "generating image 36\n",
      "generating image 37\n",
      "generating image 38\n",
      "generating image 39\n",
      "generating image 40\n",
      "generating image 41\n",
      "generating image 42\n",
      "generating image 43\n",
      "generating image 44\n",
      "generating image 45\n",
      "generating image 46\n",
      "generating image 47\n",
      "generating image 48\n",
      "generating image 49\n",
      "generating image 50\n",
      "generating image 51\n",
      "generating image 52\n",
      "generating image 53\n",
      "generating image 54\n",
      "generating image 55\n",
      "generating image 56\n",
      "generating image 57\n",
      "generating image 58\n",
      "generating image 59\n",
      "generating image 60\n",
      "generating image 61\n",
      "generating image 62\n",
      "generating image 63\n",
      "generating image 64\n",
      "generating image 65\n",
      "generating image 66\n",
      "generating image 67\n",
      "generating image 68\n",
      "generating image 69\n",
      "generating image 70\n",
      "generating image 71\n",
      "generating image 72\n",
      "generating image 73\n",
      "generating image 74\n",
      "generating image 75\n",
      "generating image 76\n",
      "Exception raised\n",
      "generating image 77\n",
      "generating image 78\n",
      "generating image 79\n",
      "generating image 80\n",
      "generating image 81\n",
      "generating image 82\n",
      "generating image 83\n",
      "generating image 84\n",
      "generating image 85\n",
      "generating image 86\n",
      "Exception raised\n",
      "generating image 87\n",
      "generating image 88\n",
      "generating image 89\n",
      "generating image 90\n",
      "generating image 91\n",
      "generating image 92\n",
      "generating image 93\n",
      "generating image 94\n",
      "generating image 95\n",
      "generating image 96\n",
      "generating image 97\n",
      "generating image 98\n",
      "generating image 99\n"
     ]
    }
   ],
   "source": [
    "for i in range(100):\n",
    "    print(f'generating image {i}')\n",
    "    try:\n",
    "        gen_image()\n",
    "    except Exception:\n",
    "        print(f'Exception raised')\n",
    "        continue"
   ]
  },
  {
   "cell_type": "code",
   "execution_count": 22,
   "metadata": {},
   "outputs": [],
   "source": []
  },
  {
   "cell_type": "code",
   "execution_count": null,
   "metadata": {},
   "outputs": [],
   "source": []
  }
 ],
 "metadata": {
  "kernelspec": {
   "display_name": "anzcro",
   "language": "python",
   "name": "python3"
  },
  "language_info": {
   "codemirror_mode": {
    "name": "ipython",
    "version": 3
   },
   "file_extension": ".py",
   "mimetype": "text/x-python",
   "name": "python",
   "nbconvert_exporter": "python",
   "pygments_lexer": "ipython3",
   "version": "3.11.9"
  }
 },
 "nbformat": 4,
 "nbformat_minor": 2
}
